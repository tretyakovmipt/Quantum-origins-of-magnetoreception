{
 "cells": [
  {
   "cell_type": "markdown",
   "source": [
    "* This notebook contains simulation of the quantum dynamics in the radical-pair mechanism in the case when the hyperfine interaction is described via nuclear spin operator.\n",
    "\n",
    "* Here, the dynamics is governed by a two-spin Hamiltonian\n",
    "$$\n",
    "        \\hat{H}=2\\mu_B\\left(\\hat{\\mathbf{S}}_1+\\hat{\\mathbf{S}}_2\\right)\\cdot\\mathbf{B}+\\hat{\\mathbf{S}}_1\\cdot\\hat{A}\\cdot\\hat{\\mathbf{I}},\n",
    "$$\n",
    "where\n",
    "$$\n",
    "    \\hat{\\mathbf{S}}_1\\cdot\\hat{A}\\cdot\\hat{\\mathbf{I}}=A_x\\hat{S}_{1x}\\hat{I}_x+A_y\\hat{S}_{1y}\\hat{I}_y+A_z\\hat{S}_{1z}\\hat{I}_z,\n",
    "$$\n",
    "and $A_x, A_y, A_z$ are the eigenvalues of $\\hat{A}$.\n",
    "\n",
    "* Whenever we introduce an RF field, it is perpendicular to the DC field.\n",
    "***"
   ],
   "metadata": {
    "collapsed": false
   }
  },
  {
   "cell_type": "markdown",
   "source": [
    "# Setup\n",
    "The quantum simulation is done in QuTiP and we're also using numpy"
   ],
   "metadata": {
    "collapsed": false
   }
  },
  {
   "cell_type": "code",
   "execution_count": 1,
   "outputs": [],
   "source": [
    "from matplotlib import pyplot as plt\n",
    "from qutip import *\n",
    "import numpy as np\n",
    "from pylab import pad"
   ],
   "metadata": {
    "collapsed": false
   }
  },
  {
   "cell_type": "markdown",
   "source": [
    "### Physical constants and parameters\n",
    "We set $\\hbar = 1$. When factor = 1, the energy is in units of eV and the Magnetic field is in units of Tesla.\n",
    "Setting factor = 1e-6, converts the units in such way that the time has units of $\\mu$s. Instead of defining the nuclear magnetic field explicitely, we use the corresponding hyperfine tensor component in the Hamiltonian."
   ],
   "metadata": {
    "collapsed": false
   }
  },
  {
   "cell_type": "code",
   "execution_count": 2,
   "outputs": [],
   "source": [
    "factor = 1e-6  # uncomment for micro units\n",
    "hbar = 1\n",
    "pi = np.pi\n",
    "\n",
    "# Bohr magneton in eV/Tesla\n",
    "muB = 5.788e-5\n",
    "\n",
    "# factor = 1   # uncomment for SI units\n",
    "gama = muB * 0.1519756e16 * factor  # in sec-1/Tesla (Converted using natural units, by taking hbar=1)\n",
    "\n",
    "# Geomagnetic field in Tesla\n",
    "Bgeo = 47e-6\n",
    "\n",
    "# Disturbing RF field of strength 150 nanoTesla\n",
    "Brf = 150e-9\n",
    "\n",
    "# RF frequency (corresponding to the Geomagnetic field Larmor frequency)\n",
    "w = 2 * gama * Bgeo\n",
    "\n",
    "# Yield decay rate\n",
    "k = 1e4 * factor\n",
    "\n",
    "# Hyperfine tensor components\n",
    "Az = 1e-8 * 0.1519756e16 * factor\n",
    "Ax = Az/2\n",
    "Ay = Az/2"
   ],
   "metadata": {
    "collapsed": false
   }
  },
  {
   "cell_type": "markdown",
   "source": [
    "### Define quantum states.\n",
    "The radical pair itself is descrbed in a 4D basis of tensor products of up/down basis of individual spins."
   ],
   "metadata": {
    "collapsed": false
   }
  },
  {
   "cell_type": "code",
   "execution_count": 3,
   "outputs": [],
   "source": [
    "up = basis(2, 0)\n",
    "down = basis(2, 1)\n",
    "S = (tensor(up, down) - tensor(down, up)).unit()  # Singlet state\n",
    "T0 = (tensor(up, down) + tensor(down, up)).unit()  # Triplet state with zero spin projection\n",
    "Tu = tensor(up, up)  # Triplet state with spin projection +1\n",
    "Td = tensor(down, down)  # Triplet state with spin projection -1"
   ],
   "metadata": {
    "collapsed": false
   }
  },
  {
   "cell_type": "markdown",
   "source": [
    "### Add the nuclear spin state to the basis, together with two shelving (steady-state) states corresponding to the singlet and triplet yield.\n",
    "All states are written as $|\\ \\rangle_{I} \\otimes |\\ \\rangle_{1} \\otimes |\\ \\rangle_{2}$\n",
    "With these states the number of dimensions is $2\\times4 + 2 = 10$, so we expand the singlet and triplet states with \"pad\"."
   ],
   "metadata": {
    "collapsed": false
   }
  },
  {
   "cell_type": "code",
   "execution_count": 4,
   "outputs": [],
   "source": [
    "uTu = Qobj(pad(tensor(up, Tu).unit(), ((0, 2), (0, 0))))  # Nuclear spin up & triplet with m=+1\n",
    "uT0 = Qobj(pad(tensor(up, T0).unit(), ((0, 2), (0, 0))))  # Nuclear spin up & triplet with m=0\n",
    "uTd = Qobj(pad(tensor(up, Td).unit(), ((0, 2), (0, 0))))  # Nuclear spin up & triplet with m=-1\n",
    "uS = Qobj(pad(tensor(up, S).unit(), ((0, 2), (0, 0))))  # Nuclear spin up & singlet\n",
    "dTu = Qobj(pad(tensor(down, Tu).unit(), ((0, 2), (0, 0))))  # Nuclear spin down & triplet with m=+1\n",
    "dT0 = Qobj(pad(tensor(down, T0).unit(), ((0, 2), (0, 0))))  # Nuclear spin down & triplet with m=0\n",
    "dTd = Qobj(pad(tensor(down, Td).unit(), ((0, 2), (0, 0))))  # Nuclear spin down & triplet with m=-1\n",
    "dS = Qobj(pad(tensor(down, S).unit(), ((0, 2), (0, 0))))  # Nuclear spin down & singlet\n",
    "SYield = basis(10, 8)  # shelving state for the singlet yield after recombination\n",
    "TYield = basis(10, 9)  # shelving state for the triplet yield after recombination\n",
    "\n",
    "SY = ket2dm(SYield)\n",
    "\n",
    "# Defining Projection operators\n",
    "P1 = SYield * uS.dag() * np.sqrt(k)\n",
    "P2 = TYield * uT0.dag() * np.sqrt(k)\n",
    "P3 = TYield * uTu.dag() * np.sqrt(k)\n",
    "P4 = TYield * uTd.dag() * np.sqrt(k)\n",
    "P5 = SYield * dS.dag() * np.sqrt(k)\n",
    "P6 = TYield * dT0.dag() * np.sqrt(k)\n",
    "P7 = TYield * dTu.dag() * np.sqrt(k)\n",
    "P8 = TYield * dTd.dag() * np.sqrt(k)\n",
    "\n",
    "c_op_list = [P1, P2, P3, P4, P5, P6, P7, P8]  # putting them together in a list"
   ],
   "metadata": {
    "collapsed": false
   }
  },
  {
   "cell_type": "markdown",
   "source": [
    "### Operators in terms of the basis states:"
   ],
   "metadata": {
    "collapsed": false
   }
  },
  {
   "cell_type": "code",
   "execution_count": 5,
   "outputs": [],
   "source": [
    "# Electron Zeeman operators. First operator in tensor products always corresponds to the nucleus\n",
    "S1x = tensor(qeye(2), sigmax(), qeye(2))  # Sx operator for electron 1: 1 x Sx x 1#\n",
    "S2x = tensor(qeye(2), qeye(2), sigmax())  # Sx operator for electron 2: 1 x 1 x Sx #\n",
    "Sx = S1x + S2x  # Total Sx operator\n",
    "Sx = Qobj(pad(Sx.full(), ((0, 2), (0, 2)), 'constant', constant_values=(0)))  # make it 10 dimensional\n",
    "\n",
    "S1y = tensor(qeye(2), sigmay(), qeye(2))  # Sy operator for electron 1: 1 x Sy x 1\n",
    "S2y = tensor(qeye(2), qeye(2), sigmay())  # Sy operator for electron 2: 1 x 1 x Sy\n",
    "Sy = S1y + S2y  # Total Sy operator\n",
    "Sy = Qobj(pad(Sy.full(), ((0, 2), (0, 2)), 'constant', constant_values=(0)))  # make it 10 dimensional\n",
    "\n",
    "S1z = tensor(qeye(2), sigmaz(), qeye(2))  # Sz operator for electron 1: 1 x Sz x 1\n",
    "S2z = tensor(qeye(2), qeye(2), sigmaz())  # Sz operator for electron 2: 1 x 1 x Sz\n",
    "Sz = S1z + S2z  # Total Sz operator\n",
    "Sz = Qobj(pad(Sz.full(), ((0, 2), (0, 2)), 'constant', constant_values=(0)))  # make it 10 dimensional\n",
    "\n",
    "# Hyperfine operators\n",
    "ISx = tensor(sigmax(), qeye(2), sigmax())  # Ix x 1 x Sx\n",
    "ISy = tensor(sigmay(), qeye(2), sigmay())  # Iy x 1 x Sy\n",
    "ISz = tensor(sigmaz(), qeye(2), sigmaz())  # Iz x 1 x Sz\n",
    "ISx = Qobj(pad(ISx.full(), ((0, 2), (0, 2)), 'constant', constant_values=0))  # make it 10-dimensional\n",
    "ISy = Qobj(pad(ISy.full(), ((0, 2), (0, 2)), 'constant', constant_values=0))  # make it 10-dimensional\n",
    "ISz = Qobj(pad(ISz.full(), ((0, 2), (0, 2)), 'constant', constant_values=0))  # make it 10-dimensional"
   ],
   "metadata": {
    "collapsed": false
   }
  },
  {
   "cell_type": "markdown",
   "source": [
    "### DC and RF Hamiltonians.\n"
   ],
   "metadata": {
    "collapsed": false
   }
  },
  {
   "cell_type": "code",
   "execution_count": 6,
   "outputs": [],
   "source": [
    "# Hyperfine Interaction\n",
    "Hhf = (Ax * ISx + Ay * ISy + Az * ISz)\n",
    "\n",
    "# DC Hamiltonian\n",
    "def H0(theta: float) -> object:\n",
    "    # Zeeman Hamiltonian\n",
    "    Bx = Bgeo * np.sin(theta)\n",
    "    By = 0\n",
    "    Bz = Bgeo * np.cos(theta)\n",
    "    Hz = gama * (Sx * Bx + Sy * By + Sz * Bz)\n",
    "    return Hz + Hhf\n",
    "\n",
    "# Arguments of the RF field\n",
    "args = {'A': Brf, 'freq': w}\n",
    "\n",
    "# RF field\n",
    "def Bt(t, args):\n",
    "    A = args['A']  # amplitude of the oscilating field\n",
    "    freq = args['freq']  # frequency of the oscilating field\n",
    "    return A * np.cos(t * freq)\n",
    "\n",
    "# RF Hamiltonian\n",
    "def H_RF(theta, args):\n",
    "    th_rf = theta + np.pi / 2.\n",
    "    Bxrf = np.sin(th_rf)\n",
    "    Byrf = 0.0\n",
    "    Bzrf = np.cos(th_rf)\n",
    "    Hrf = gama * (Sx * Bxrf + Sy * Byrf + Sz * Bzrf)\n",
    "    return [Hrf, Bt]  # Time-dependent Hamiltonian H(t)\n",
    "\n"
   ],
   "metadata": {
    "collapsed": false
   }
  },
  {
   "cell_type": "markdown",
   "source": [
    "# Calculate the singlet population and both yields due to recombination vs time"
   ],
   "metadata": {
    "collapsed": false
   }
  },
  {
   "cell_type": "code",
   "execution_count": 7,
   "outputs": [],
   "source": [
    "theta = 0 * pi\n",
    "tlist = np.linspace(0.0, 6.0 / k, 20000) #time grid\n",
    "rho0 = 0.5 * ket2dm(uS) + 0.5 * ket2dm(dS)  # Initial density matrix: singlet state with nuclear spin up and down\n",
    "\n",
    "result_t_DC = mesolve(H0(theta), rho0, tlist, c_op_list, [2 * rho0, SY], args=args)\n",
    "result_t_RF = mesolve([H0(theta), H_RF(theta, args)], rho0, tlist, c_op_list, [2 * rho0, SY], args=args)\n",
    "\n",
    "singlet_population_DC = result_t_DC.expect[0]\n",
    "singlet_population_RF = result_t_RF.expect[0]\n"
   ],
   "metadata": {
    "collapsed": false
   }
  },
  {
   "cell_type": "code",
   "execution_count": 8,
   "outputs": [
    {
     "data": {
      "text/plain": "<Figure size 432x288 with 1 Axes>",
      "image/png": "[encoded data removed]"
     },
     "metadata": {
      "needs_background": "light"
     },
     "output_type": "display_data"
    }
   ],
   "source": [
    "#Plot results\n",
    "fig, ax = plt.subplots()\n",
    "ax.plot(tlist * 1e6 * factor, singlet_population_DC, label='DC', linewidth=4.0)\n",
    "ax.plot(tlist * 1e6 * factor, singlet_population_RF, label='RF', linewidth=4.0)\n",
    "ax.plot(tlist * 1e6 * factor, result_t_DC.expect[1], label='singlet yield DC', linewidth=4.0)\n",
    "ax.plot(tlist * 1e6 * factor, result_t_RF.expect[1], label='singlet yield RF', linewidth=4.0)\n",
    "ax.set_xlabel(r'$time\\ (\\mu s)$')\n",
    "ax.set_ylabel('Singlet population')\n",
    "ax.legend(loc=0)\n",
    "ax.grid()"
   ],
   "metadata": {
    "collapsed": false
   }
  },
  {
   "cell_type": "markdown",
   "source": [
    "# Yields vs $\\theta$\n",
    "Here the yield is determined as the steady-state population of the shelving state. Basically, we need to wait long enough. We calculate for both orientation of the nuclear field and use their average."
   ],
   "metadata": {
    "collapsed": false
   }
  },
  {
   "cell_type": "code",
   "execution_count": 9,
   "outputs": [],
   "source": [
    "thetas = np.linspace(0.0, pi, 21)\n",
    "tlist = np.linspace(0.0, 6.0 / k, 20000)"
   ],
   "metadata": {
    "collapsed": false
   }
  },
  {
   "cell_type": "markdown",
   "source": [
    "### DC field"
   ],
   "metadata": {
    "collapsed": false
   }
  },
  {
   "cell_type": "code",
   "execution_count": 10,
   "outputs": [
    {
     "name": "stdout",
     "output_type": "stream",
     "text": [
      "DC evolution nuclear field\n",
      "$\\theta$ =  0.0\n",
      "$\\theta$ =  0.15707963267948966\n",
      "$\\theta$ =  0.3141592653589793\n",
      "$\\theta$ =  0.47123889803846897\n",
      "$\\theta$ =  0.6283185307179586\n",
      "$\\theta$ =  0.7853981633974483\n",
      "$\\theta$ =  0.9424777960769379\n",
      "$\\theta$ =  1.0995574287564276\n",
      "$\\theta$ =  1.2566370614359172\n",
      "$\\theta$ =  1.413716694115407\n",
      "$\\theta$ =  1.5707963267948966\n",
      "$\\theta$ =  1.7278759594743862\n",
      "$\\theta$ =  1.8849555921538759\n",
      "$\\theta$ =  2.0420352248333655\n",
      "$\\theta$ =  2.199114857512855\n",
      "$\\theta$ =  2.356194490192345\n",
      "$\\theta$ =  2.5132741228718345\n",
      "$\\theta$ =  2.670353755551324\n",
      "$\\theta$ =  2.827433388230814\n",
      "$\\theta$ =  2.9845130209103035\n",
      "$\\theta$ =  3.141592653589793\n"
     ]
    }
   ],
   "source": [
    "singlet_yield_DC = []\n",
    "\n",
    "rho0 = 0.5 * ket2dm(uS) + 0.5 * ket2dm(dS)\n",
    "\n",
    "print(\"DC evolution nuclear field\")\n",
    "for th in thetas:\n",
    "    print(r\"$\\theta$ = \", th)\n",
    "    result_DC = mesolve(H0(th), rho0, tlist, c_op_list, [SY])\n",
    "    singlet_yield_DC.append(result_DC.expect[0][-1])\n",
    "\n",
    "# convert to numpy array\n",
    "singlet_yield_DC = np.array(singlet_yield_DC)"
   ],
   "metadata": {
    "collapsed": false
   }
  },
  {
   "cell_type": "markdown",
   "source": [
    "### DC + RF"
   ],
   "metadata": {
    "collapsed": false
   }
  },
  {
   "cell_type": "code",
   "execution_count": 11,
   "outputs": [
    {
     "name": "stdout",
     "output_type": "stream",
     "text": [
      "Nuclear operator RF evolution\n",
      "$ \\theta = $0.0\n",
      "$ \\theta = $0.15707963267948966\n",
      "$ \\theta = $0.3141592653589793\n",
      "$ \\theta = $0.47123889803846897\n",
      "$ \\theta = $0.6283185307179586\n",
      "$ \\theta = $0.7853981633974483\n",
      "$ \\theta = $0.9424777960769379\n",
      "$ \\theta = $1.0995574287564276\n",
      "$ \\theta = $1.2566370614359172\n",
      "$ \\theta = $1.413716694115407\n",
      "$ \\theta = $1.5707963267948966\n",
      "$ \\theta = $1.7278759594743862\n",
      "$ \\theta = $1.8849555921538759\n",
      "$ \\theta = $2.0420352248333655\n",
      "$ \\theta = $2.199114857512855\n",
      "$ \\theta = $2.356194490192345\n",
      "$ \\theta = $2.5132741228718345\n",
      "$ \\theta = $2.670353755551324\n",
      "$ \\theta = $2.827433388230814\n",
      "$ \\theta = $2.9845130209103035\n",
      "$ \\theta = $3.141592653589793\n"
     ]
    }
   ],
   "source": [
    "singlet_yield_RF = []\n",
    "\n",
    "# Defining initial density matrix\n",
    "rho0 = 0.5 * ket2dm(uS) + 0.5 * ket2dm(dS)  # density matrix for singlet with nuclear spin up and down\n",
    "\n",
    "print(\"Nuclear operator RF evolution\")\n",
    "for th in thetas:\n",
    "    print(r'$ \\theta = $' + str(th))\n",
    "    result_RF = mesolve([H0(th), H_RF(th, args)], rho0, tlist, c_op_list, [SY], args=args)\n",
    "    singlet_yield_RF.append(result_RF.expect[0][-1])\n",
    "\n",
    "singlet_yield_RF = np.array(singlet_yield_RF)"
   ],
   "metadata": {
    "collapsed": false
   }
  },
  {
   "cell_type": "code",
   "execution_count": 12,
   "outputs": [
    {
     "data": {
      "text/plain": "<Figure size 432x288 with 1 Axes>",
      "image/png": "[encoded data removed]"
     },
     "metadata": {
      "needs_background": "light"
     },
     "output_type": "display_data"
    }
   ],
   "source": [
    "# Plot\n",
    "fig, ax = plt.subplots()\n",
    "ax.plot(thetas / pi, singlet_yield_DC, label='No RF', linewidth=4.0)\n",
    "ax.plot(thetas / pi, singlet_yield_RF, label='RF', linewidth=4.0)\n",
    "ax.set_xlabel('Angle')\n",
    "ax.set_ylabel('Singlet yield')\n",
    "ax.legend(loc=0)\n",
    "ax.grid()"
   ],
   "metadata": {
    "collapsed": false
   }
  }
 ],
 "metadata": {
  "kernelspec": {
   "display_name": "Python 3",
   "language": "python",
   "name": "python3"
  },
  "language_info": {
   "codemirror_mode": {
    "name": "ipython",
    "version": 2
   },
   "file_extension": ".py",
   "mimetype": "text/x-python",
   "name": "python",
   "nbconvert_exporter": "python",
   "pygments_lexer": "ipython2",
   "version": "2.7.6"
  }
 },
 "nbformat": 4,
 "nbformat_minor": 0
}
