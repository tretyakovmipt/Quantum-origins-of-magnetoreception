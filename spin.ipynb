{
 "cells": [
  {
   "cell_type": "markdown",
   "source": [
    "* This notebook contains simulation of the quantum dynamics in the radical-pair mechanism in the case when the hyperfine interaction is described via nuclear spin operator.\n",
    "\n",
    "* Here, the dynamics is governed by a two-spin Hamiltonian\n",
    "$$\n",
    "        \\hat{H}=2\\mu_B\\left(\\hat{\\mathbf{S}}_1+\\hat{\\mathbf{S}}_2\\right)\\cdot\\mathbf{B}+\\hat{\\mathbf{S}}_1\\cdot\\hat{A}\\cdot\\hat{\\mathbf{I}},\n",
    "$$\n",
    "where\n",
    "$$\n",
    "    \\hat{\\mathbf{S}}_1\\cdot\\hat{A}\\cdot\\hat{\\mathbf{I}}=A_x\\hat{S}_{1x}\\hat{I}_x+A_y\\hat{S}_{1y}\\hat{I}_y+A_z\\hat{S}_{1z}\\hat{I}_z,\n",
    "$$\n",
    "and $A_x, A_y, A_z$ are the eigenvalues of $\\hat{A}$.\n",
    "\n",
    "* Whenever we introduce an RF field, it is perpendicular to the DC field.\n",
    "***"
   ],
   "metadata": {
    "collapsed": false
   }
  },
  {
   "cell_type": "markdown",
   "source": [
    "# Setup\n",
    "The quantum simulation is done in QuTiP and we're also using numpy"
   ],
   "metadata": {
    "collapsed": false
   }
  },
  {
   "cell_type": "code",
   "execution_count": 1,
   "outputs": [],
   "source": [
    "from matplotlib import pyplot as plt\n",
    "from qutip import *\n",
    "import numpy as np\n",
    "from pylab import pad"
   ],
   "metadata": {
    "collapsed": false
   }
  },
  {
   "cell_type": "markdown",
   "source": [
    "### Physical constants and parameters\n",
    "We set $\\hbar = 1$. When factor = 1, the energy is in units of eV and the Magnetic field is in units of Tesla.\n",
    "Setting factor = 1e-6, converts the units in such way that the time has units of $\\mu$s. Instead of defining the nuclear magnetic field explicitely, we use the corresponding hyperfine tensor component in the Hamiltonian."
   ],
   "metadata": {
    "collapsed": false
   }
  },
  {
   "cell_type": "code",
   "execution_count": 6,
   "outputs": [],
   "source": [
    "factor = 1e-6  # uncomment for micro units\n",
    "hbar = 1\n",
    "pi = np.pi\n",
    "\n",
    "# Bohr magneton in eV/Tesla\n",
    "muB = 5.788e-5\n",
    "\n",
    "# factor = 1   # uncomment for SI units\n",
    "gama = muB * 0.1519756e16 * factor  # in sec-1/Tesla (Converted using natural units, by taking hbar=1)\n",
    "\n",
    "# Geomagnetic field in Tesla\n",
    "Bgeo = 47e-6\n",
    "\n",
    "# Disturbing RF field of strength 150 nanoTesla\n",
    "Brf = 150e-9\n",
    "\n",
    "# RF frequency (corresponding to the Geomagnetic field Larmor frequency)\n",
    "w = 2 * gama * Bgeo\n",
    "\n",
    "# Yield decay rate\n",
    "k = 1e4 * factor\n",
    "\n",
    "# Hyperfine tensor components\n",
    "Az = 1e-8 * 0.1519756e16 * factor\n",
    "Ax = Az/2\n",
    "Ay = Az/2"
   ],
   "metadata": {
    "collapsed": false
   }
  },
  {
   "cell_type": "markdown",
   "source": [
    "### Define quantum states.\n",
    "The radical pair itself is descrbed in a 4D basis of tensor products of up/down basis of individual spins."
   ],
   "metadata": {
    "collapsed": false
   }
  },
  {
   "cell_type": "code",
   "execution_count": 7,
   "outputs": [],
   "source": [
    "up = basis(2, 0)\n",
    "down = basis(2, 1)\n",
    "S = (tensor(up, down) - tensor(down, up)).unit()  # Singlet state\n",
    "T0 = (tensor(up, down) + tensor(down, up)).unit()  # Triplet state with zero spin projection\n",
    "Tu = tensor(up, up)  # Triplet state with spin projection +1\n",
    "Td = tensor(down, down)  # Triplet state with spin projection -1"
   ],
   "metadata": {
    "collapsed": false
   }
  },
  {
   "cell_type": "markdown",
   "source": [
    "### Add the nuclear spin state to the basis, together with two shelving (steady-state) states corresponding to the singlet and triplet yield.\n",
    "All states are written as $|\\ \\rangle_{I} \\otimes |\\ \\rangle_{1} \\otimes |\\ \\rangle_{2}$\n",
    "With these states the number of dimensions is $2\\times4 + 2 = 10$, so we expand the singlet and triplet states with \"pad\"."
   ],
   "metadata": {
    "collapsed": false
   }
  },
  {
   "cell_type": "code",
   "execution_count": 8,
   "outputs": [],
   "source": [
    "uTu = Qobj(pad(tensor(up, Tu).unit(), ((0, 2), (0, 0))))  # Nuclear spin up & triplet with m=+1\n",
    "uT0 = Qobj(pad(tensor(up, T0).unit(), ((0, 2), (0, 0))))  # Nuclear spin up & triplet with m=0\n",
    "uTd = Qobj(pad(tensor(up, Td).unit(), ((0, 2), (0, 0))))  # Nuclear spin up & triplet with m=-1\n",
    "uS = Qobj(pad(tensor(up, S).unit(), ((0, 2), (0, 0))))  # Nuclear spin up & singlet\n",
    "dTu = Qobj(pad(tensor(down, Tu).unit(), ((0, 2), (0, 0))))  # Nuclear spin down & triplet with m=+1\n",
    "dT0 = Qobj(pad(tensor(down, T0).unit(), ((0, 2), (0, 0))))  # Nuclear spin down & triplet with m=0\n",
    "dTd = Qobj(pad(tensor(down, Td).unit(), ((0, 2), (0, 0))))  # Nuclear spin down & triplet with m=-1\n",
    "dS = Qobj(pad(tensor(down, S).unit(), ((0, 2), (0, 0))))  # Nuclear spin down & singlet\n",
    "SYield = basis(10, 8)  # shelving state for the singlet yield after recombination\n",
    "TYield = basis(10, 9)  # shelving state for the triplet yield after recombination\n",
    "\n",
    "SY = ket2dm(SYield)\n",
    "\n",
    "# Defining Projection operators\n",
    "P1 = SYield * uS.dag() * np.sqrt(k)\n",
    "P2 = TYield * uT0.dag() * np.sqrt(k)\n",
    "P3 = TYield * uTu.dag() * np.sqrt(k)\n",
    "P4 = TYield * uTd.dag() * np.sqrt(k)\n",
    "P5 = SYield * dS.dag() * np.sqrt(k)\n",
    "P6 = TYield * dT0.dag() * np.sqrt(k)\n",
    "P7 = TYield * dTu.dag() * np.sqrt(k)\n",
    "P8 = TYield * dTd.dag() * np.sqrt(k)\n",
    "\n",
    "c_op_list = [P1, P2, P3, P4, P5, P6, P7, P8]  # putting them together in a list"
   ],
   "metadata": {
    "collapsed": false
   }
  },
  {
   "cell_type": "markdown",
   "source": [
    "### Operators in terms of the basis states:"
   ],
   "metadata": {
    "collapsed": false
   }
  },
  {
   "cell_type": "code",
   "execution_count": 9,
   "outputs": [],
   "source": [
    "# Electron Zeeman operators. First operator in tensor products always corresponds to the nucleus\n",
    "S1x = tensor(qeye(2), sigmax(), qeye(2))  # Sx operator for electron 1: 1 x Sx x 1#\n",
    "S2x = tensor(qeye(2), qeye(2), sigmax())  # Sx operator for electron 2: 1 x 1 x Sx #\n",
    "Sx = S1x + S2x  # Total Sx operator\n",
    "Sx = Qobj(pad(Sx.full(), ((0, 2), (0, 2)), 'constant', constant_values=(0)))  # make it 10 dimensional\n",
    "\n",
    "S1y = tensor(qeye(2), sigmay(), qeye(2))  # Sy operator for electron 1: 1 x Sy x 1\n",
    "S2y = tensor(qeye(2), qeye(2), sigmay())  # Sy operator for electron 2: 1 x 1 x Sy\n",
    "Sy = S1y + S2y  # Total Sy operator\n",
    "Sy = Qobj(pad(Sy.full(), ((0, 2), (0, 2)), 'constant', constant_values=(0)))  # make it 10 dimensional\n",
    "\n",
    "S1z = tensor(qeye(2), sigmaz(), qeye(2))  # Sz operator for electron 1: 1 x Sz x 1\n",
    "S2z = tensor(qeye(2), qeye(2), sigmaz())  # Sz operator for electron 2: 1 x 1 x Sz\n",
    "Sz = S1z + S2z  # Total Sz operator\n",
    "Sz = Qobj(pad(Sz.full(), ((0, 2), (0, 2)), 'constant', constant_values=(0)))  # make it 10 dimensional\n",
    "\n",
    "# Hyperfine operators\n",
    "ISx = tensor(sigmax(), qeye(2), sigmax())  # Ix x 1 x Sx\n",
    "ISy = tensor(sigmay(), qeye(2), sigmay())  # Iy x 1 x Sy\n",
    "ISz = tensor(sigmaz(), qeye(2), sigmaz())  # Iz x 1 x Sz\n",
    "ISx = Qobj(pad(ISx.full(), ((0, 2), (0, 2)), 'constant', constant_values=0))  # make it 10-dimensional\n",
    "ISy = Qobj(pad(ISy.full(), ((0, 2), (0, 2)), 'constant', constant_values=0))  # make it 10-dimensional\n",
    "ISz = Qobj(pad(ISz.full(), ((0, 2), (0, 2)), 'constant', constant_values=0))  # make it 10-dimensional"
   ],
   "metadata": {
    "collapsed": false
   }
  },
  {
   "cell_type": "markdown",
   "source": [
    "### DC and RF Hamiltonians.\n"
   ],
   "metadata": {
    "collapsed": false
   }
  },
  {
   "cell_type": "code",
   "execution_count": 10,
   "outputs": [],
   "source": [
    "# Hyperfine Interaction\n",
    "Hhf = (Ax * ISx + Ay * ISy + Az * ISz)\n",
    "\n",
    "# DC Hamiltonian\n",
    "def H0(theta: float) -> object:\n",
    "    # Zeeman Hamiltonian\n",
    "    Bx = Bgeo * np.sin(theta)\n",
    "    By = 0\n",
    "    Bz = Bgeo * np.cos(theta)\n",
    "    Hz = gama * (Sx * Bx + Sy * By + Sz * Bz)\n",
    "    return Hz + Hhf\n",
    "\n",
    "# Arguments of the RF field\n",
    "args = {'A': Brf, 'freq': w}\n",
    "\n",
    "# RF field\n",
    "def Bt(t, args):\n",
    "    A = args['A']  # amplitude of the oscilating field\n",
    "    freq = args['freq']  # frequency of the oscilating field\n",
    "    return A * np.cos(t * freq)\n",
    "\n",
    "# RF Hamiltonian\n",
    "def H_RF(theta, args):\n",
    "    th_rf = theta + np.pi / 2.\n",
    "    Bxrf = np.sin(th_rf)\n",
    "    Byrf = 0.0\n",
    "    Bzrf = np.cos(th_rf)\n",
    "    Hrf = gama * (Sx * Bxrf + Sy * Byrf + Sz * Bzrf)\n",
    "    return [Hrf, Bt]  # Time-dependent Hamiltonian H(t)\n",
    "\n"
   ],
   "metadata": {
    "collapsed": false
   }
  },
  {
   "cell_type": "markdown",
   "source": [
    "# Calculate the singlet population and both yields due to recombination vs time"
   ],
   "metadata": {
    "collapsed": false
   }
  },
  {
   "cell_type": "code",
   "execution_count": 10,
   "outputs": [],
   "source": [
    "theta = 0.25 * np.pi\n",
    "tlist = np.linspace(0.0, 6.0 / k, 20000) #time grid\n",
    "\n",
    "psi0 = S  # start in the singlet state\n",
    "\n",
    "#DC field\n",
    "result_t_DC = mesolve(H_up(theta), psi0, tlist, c_op_list, [ket2dm(S), ket2dm(SYield), ket2dm(TYield)], args=args)\n",
    "singlet_population_DC = result_t_DC.expect[0]\n",
    "singlet_t_yield_DC = result_t_DC.expect[1]\n",
    "triplet_t_yield_DC = result_t_DC.expect[2]\n",
    "\n",
    "#DC + RF fields\n",
    "result_t_RF = mesolve([H_up(theta), H_RF(theta, args)], psi0, tlist, c_op_list, [ket2dm(S), ket2dm(SYield), ket2dm(TYield)], args=args)\n",
    "singlet_population_RF = result_t_RF.expect[0]\n",
    "singlet_t_yield_RF = result_t_RF.expect[1]\n",
    "triplet_t_yield_RF = result_t_RF.expect[2]"
   ],
   "metadata": {
    "collapsed": false
   }
  },
  {
   "cell_type": "code",
   "execution_count": 11,
   "outputs": [
    {
     "data": {
      "text/plain": "<Figure size 432x288 with 1 Axes>",
      "image/png": "[encoded data removed]"
     },
     "metadata": {
      "needs_background": "light"
     },
     "output_type": "display_data"
    }
   ],
   "source": [
    "#Plot results\n",
    "fig, ax = plt.subplots()\n",
    "ax.plot(tlist * 1e6 * factor, singlet_population_DC, label='S population DC', linewidth=4.0)\n",
    "ax.plot(tlist * 1e6 * factor, singlet_t_yield_DC, label='S yield DC', linewidth=4.0)\n",
    "ax.plot(tlist * 1e6 * factor, singlet_population_RF, label='S population RF', linewidth=4.0)\n",
    "ax.plot(tlist * 1e6 * factor, singlet_t_yield_RF, label='S yield RF', linewidth=4.0)\n",
    "ax.plot(tlist * 1e6 * factor, triplet_t_yield_DC , label='T yield DC', linewidth=4.0)\n",
    "ax.plot(tlist * 1e6 * factor, triplet_t_yield_RF , label='T yield RF', linewidth=4.0)\n",
    "\n",
    "ax.set_xlabel(r'$time\\ (\\mu s)$')\n",
    "ax.set_ylabel('Singlet population')\n",
    "# ax.set_xlim(0,1)\n",
    "ax.legend(loc=0)\n",
    "ax.grid()\n",
    "plt.show()"
   ],
   "metadata": {
    "collapsed": false
   }
  },
  {
   "cell_type": "markdown",
   "source": [
    "# Yields vs $\\theta$\n",
    "Here the yield is determined as the steady-state population of the shelving state. Basically, we need to wait long enough. We calculate for both orientation of the nuclear field and use their average."
   ],
   "metadata": {
    "collapsed": false
   }
  },
  {
   "cell_type": "code",
   "execution_count": 12,
   "outputs": [],
   "source": [
    "thetas = np.linspace(0.0, pi, 21)\n",
    "tlist = np.linspace(0.0, 6.0 / k, 20000)"
   ],
   "metadata": {
    "collapsed": false
   }
  },
  {
   "cell_type": "markdown",
   "source": [
    "## DC field"
   ],
   "metadata": {
    "collapsed": false
   }
  },
  {
   "cell_type": "code",
   "execution_count": 13,
   "outputs": [
    {
     "name": "stdout",
     "output_type": "stream",
     "text": [
      "DC evolution nuclear field\n",
      "$\\theta$ =  0.0\n",
      "$\\theta$ =  0.15707963267948966\n",
      "$\\theta$ =  0.3141592653589793\n",
      "$\\theta$ =  0.47123889803846897\n",
      "$\\theta$ =  0.6283185307179586\n",
      "$\\theta$ =  0.7853981633974483\n",
      "$\\theta$ =  0.9424777960769379\n",
      "$\\theta$ =  1.0995574287564276\n",
      "$\\theta$ =  1.2566370614359172\n",
      "$\\theta$ =  1.413716694115407\n",
      "$\\theta$ =  1.5707963267948966\n",
      "$\\theta$ =  1.7278759594743862\n",
      "$\\theta$ =  1.8849555921538759\n",
      "$\\theta$ =  2.0420352248333655\n",
      "$\\theta$ =  2.199114857512855\n",
      "$\\theta$ =  2.356194490192345\n",
      "$\\theta$ =  2.5132741228718345\n",
      "$\\theta$ =  2.670353755551324\n",
      "$\\theta$ =  2.827433388230814\n",
      "$\\theta$ =  2.9845130209103035\n",
      "$\\theta$ =  3.141592653589793\n"
     ]
    }
   ],
   "source": [
    "singlet_yield_up = []\n",
    "singlet_yield_down = []\n",
    "\n",
    "rho0 = S\n",
    "\n",
    "print(\"DC evolution nuclear field\")\n",
    "for th in thetas:\n",
    "    print(r\"$\\theta$ = \", th)\n",
    "    result = mesolve(H_up(th), rho0, tlist, c_op_list, [ket2dm(SYield)])\n",
    "    singlet_yield_up.append(result.expect[0][-1])\n",
    "    result = mesolve(H_down(th), rho0, tlist, c_op_list, [ket2dm(SYield)])\n",
    "    singlet_yield_down.append(result.expect[0][-1])\n",
    "\n",
    "# convert to numpy arrays to find their average\n",
    "singlet_yield_up, singlet_yield_down = np.array(singlet_yield_up), np.array(singlet_yield_down)"
   ],
   "metadata": {
    "collapsed": false
   }
  },
  {
   "cell_type": "code",
   "execution_count": 14,
   "outputs": [
    {
     "data": {
      "text/plain": "<Figure size 432x288 with 1 Axes>",
      "image/png": "[encoded data removed]"
     },
     "metadata": {
      "needs_background": "light"
     },
     "output_type": "display_data"
    }
   ],
   "source": [
    "# Plot\n",
    "\n",
    "fig, ax = plt.subplots()\n",
    "ax.plot(thetas / pi, singlet_yield_up, label='up', linewidth=4.0)\n",
    "ax.plot(thetas / pi, singlet_yield_down, label='down', linewidth=4.0)\n",
    "ax.plot(thetas / pi, (singlet_yield_up + singlet_yield_down) / 2, label='average', linewidth=4.0)\n",
    "ax.set_xlabel('Angle')\n",
    "ax.set_ylabel('Singlet yield (DC)')\n",
    "ax.set_ylim(0.24, 0.52)\n",
    "ax.legend(loc=0)\n",
    "ax.grid()\n",
    "plt.show()"
   ],
   "metadata": {
    "collapsed": false
   }
  },
  {
   "cell_type": "markdown",
   "source": [
    "# DC + RF fields"
   ],
   "metadata": {
    "collapsed": false
   }
  },
  {
   "cell_type": "code",
   "execution_count": 15,
   "outputs": [
    {
     "name": "stdout",
     "output_type": "stream",
     "text": [
      "RF evolution nuclear field\n",
      "$\\theta = $ 0.0\n",
      "$\\theta = $ 0.15707963267948966\n",
      "$\\theta = $ 0.3141592653589793\n",
      "$\\theta = $ 0.47123889803846897\n",
      "$\\theta = $ 0.6283185307179586\n",
      "$\\theta = $ 0.7853981633974483\n",
      "$\\theta = $ 0.9424777960769379\n",
      "$\\theta = $ 1.0995574287564276\n",
      "$\\theta = $ 1.2566370614359172\n",
      "$\\theta = $ 1.413716694115407\n",
      "$\\theta = $ 1.5707963267948966\n",
      "$\\theta = $ 1.7278759594743862\n",
      "$\\theta = $ 1.8849555921538759\n",
      "$\\theta = $ 2.0420352248333655\n",
      "$\\theta = $ 2.199114857512855\n",
      "$\\theta = $ 2.356194490192345\n",
      "$\\theta = $ 2.5132741228718345\n",
      "$\\theta = $ 2.670353755551324\n",
      "$\\theta = $ 2.827433388230814\n",
      "$\\theta = $ 2.9845130209103035\n",
      "$\\theta = $ 3.141592653589793\n"
     ]
    }
   ],
   "source": [
    "rho0 = S\n",
    "singlet_yield_up_RF = []\n",
    "singlet_yield_down_RF = []\n",
    "\n",
    "print(\"RF evolution nuclear field\")\n",
    "\n",
    "for th in thetas:\n",
    "    print(r\"$\\theta = $\", th)\n",
    "    result = mesolve([H_up(th), H_RF(th, args)], rho0, tlist, c_op_list, [ket2dm(SYield)], args=args)\n",
    "    singlet_yield_up_RF.append(result.expect[0][-1])\n",
    "    result = mesolve([H_down(th), H_RF(th, args)], rho0, tlist, c_op_list, [ket2dm(SYield)], args=args)\n",
    "    singlet_yield_down_RF.append(result.expect[0][-1])\n",
    "\n",
    "singlet_yield_up_RF, singlet_yield_down_RF = np.array(singlet_yield_up_RF), np.array(singlet_yield_down_RF)"
   ],
   "metadata": {
    "collapsed": false
   }
  },
  {
   "cell_type": "code",
   "execution_count": 16,
   "outputs": [
    {
     "data": {
      "text/plain": "<Figure size 432x288 with 1 Axes>",
      "image/png": "[encoded data removed]"
     },
     "metadata": {
      "needs_background": "light"
     },
     "output_type": "display_data"
    }
   ],
   "source": [
    "# Plot\n",
    "fig, ax = plt.subplots()\n",
    "ax.plot(thetas / pi, singlet_yield_up_RF, label='up', linewidth=4.0)\n",
    "ax.plot(thetas / pi, singlet_yield_down_RF, label='down', linewidth=4.0)\n",
    "ax.plot(thetas / pi, (singlet_yield_up_RF + singlet_yield_down_RF) / 2,\n",
    "        label='average', linewidth=4.0)\n",
    "ax.set_xlabel('Angle')\n",
    "ax.set_ylabel('Singlet yield (RF)')\n",
    "ax.set_ylim(0.24, 0.52)\n",
    "ax.legend(loc=0)\n",
    "ax.grid()\n",
    "plt.show()"
   ],
   "metadata": {
    "collapsed": false
   }
  },
  {
   "cell_type": "markdown",
   "source": [
    "# RF resonance\n",
    "Here we investigate the dependence of the singlet yield on the RF frequency when the DC field is parallel to the quantization axis. We compare the results obtained using the time-dependent Hamiltonian and the rotating-wave Hamiltonian, given by\n",
    "$$\n",
    " \\hat{H}_{rwa}/2\\mu_B =  B_I|T_0\\rangle\\langle S|+ \\dfrac{B_{rf}}{2}|T_+\\rangle\\langle T_0|+\\left( B_I - \\dfrac{\\hbar}{2\\mu_B}\\delta_{rf} \\right)|T_-\\rangle\\langle T_+|+\\text{h.c.}\n",
    "$$"
   ],
   "metadata": {
    "collapsed": false
   }
  },
  {
   "cell_type": "code",
   "execution_count": 17,
   "outputs": [
    {
     "name": "stdout",
     "output_type": "stream",
     "text": [
      "$\\omega_{rf} = $ 0.98 r$\\omega_g$\n",
      "$\\omega_{rf} = $ 0.9808 r$\\omega_g$\n",
      "$\\omega_{rf} = $ 0.9816 r$\\omega_g$\n",
      "$\\omega_{rf} = $ 0.9823999999999999 r$\\omega_g$\n",
      "$\\omega_{rf} = $ 0.9832 r$\\omega_g$\n",
      "$\\omega_{rf} = $ 0.984 r$\\omega_g$\n",
      "$\\omega_{rf} = $ 0.9848 r$\\omega_g$\n",
      "$\\omega_{rf} = $ 0.9856 r$\\omega_g$\n",
      "$\\omega_{rf} = $ 0.9863999999999999 r$\\omega_g$\n",
      "$\\omega_{rf} = $ 0.9872 r$\\omega_g$\n",
      "$\\omega_{rf} = $ 0.988 r$\\omega_g$\n",
      "$\\omega_{rf} = $ 0.9888 r$\\omega_g$\n",
      "$\\omega_{rf} = $ 0.9896 r$\\omega_g$\n",
      "$\\omega_{rf} = $ 0.9904 r$\\omega_g$\n",
      "$\\omega_{rf} = $ 0.9912 r$\\omega_g$\n",
      "$\\omega_{rf} = $ 0.992 r$\\omega_g$\n",
      "$\\omega_{rf} = $ 0.9928 r$\\omega_g$\n",
      "$\\omega_{rf} = $ 0.9936 r$\\omega_g$\n",
      "$\\omega_{rf} = $ 0.9944 r$\\omega_g$\n",
      "$\\omega_{rf} = $ 0.9952 r$\\omega_g$\n",
      "$\\omega_{rf} = $ 0.996 r$\\omega_g$\n",
      "$\\omega_{rf} = $ 0.9968 r$\\omega_g$\n",
      "$\\omega_{rf} = $ 0.9976 r$\\omega_g$\n",
      "$\\omega_{rf} = $ 0.9984 r$\\omega_g$\n",
      "$\\omega_{rf} = $ 0.9992 r$\\omega_g$\n",
      "$\\omega_{rf} = $ 1.0 r$\\omega_g$\n",
      "$\\omega_{rf} = $ 1.0008 r$\\omega_g$\n",
      "$\\omega_{rf} = $ 1.0016 r$\\omega_g$\n",
      "$\\omega_{rf} = $ 1.0024 r$\\omega_g$\n",
      "$\\omega_{rf} = $ 1.0032 r$\\omega_g$\n",
      "$\\omega_{rf} = $ 1.004 r$\\omega_g$\n",
      "$\\omega_{rf} = $ 1.0048 r$\\omega_g$\n",
      "$\\omega_{rf} = $ 1.0056 r$\\omega_g$\n",
      "$\\omega_{rf} = $ 1.0064 r$\\omega_g$\n",
      "$\\omega_{rf} = $ 1.0072 r$\\omega_g$\n",
      "$\\omega_{rf} = $ 1.008 r$\\omega_g$\n",
      "$\\omega_{rf} = $ 1.0088 r$\\omega_g$\n",
      "$\\omega_{rf} = $ 1.0096 r$\\omega_g$\n",
      "$\\omega_{rf} = $ 1.0104 r$\\omega_g$\n",
      "$\\omega_{rf} = $ 1.0112 r$\\omega_g$\n",
      "$\\omega_{rf} = $ 1.012 r$\\omega_g$\n",
      "$\\omega_{rf} = $ 1.0128 r$\\omega_g$\n",
      "$\\omega_{rf} = $ 1.0136 r$\\omega_g$\n",
      "$\\omega_{rf} = $ 1.0144 r$\\omega_g$\n",
      "$\\omega_{rf} = $ 1.0152 r$\\omega_g$\n",
      "$\\omega_{rf} = $ 1.016 r$\\omega_g$\n",
      "$\\omega_{rf} = $ 1.0168 r$\\omega_g$\n",
      "$\\omega_{rf} = $ 1.0176 r$\\omega_g$\n",
      "$\\omega_{rf} = $ 1.0184 r$\\omega_g$\n",
      "$\\omega_{rf} = $ 1.0192 r$\\omega_g$\n",
      "$\\omega_{rf} = $ 1.02 r$\\omega_g$\n"
     ]
    }
   ],
   "source": [
    "# Time-dependent Hamiltonian\n",
    "\n",
    "tlist3 = np.linspace(0.0, 4.0 / k, 20000)\n",
    "theta3 = 0\n",
    "rho0 = S\n",
    "\n",
    "freq_list_RF = np.linspace(0.98, 1.02, 51)  # units of 2*gama*Bgeo\n",
    "\n",
    "singlet_yield_vs_freq_RF = []\n",
    "triplet_yield_vs_freq_RF = []\n",
    "\n",
    "for freq in freq_list_RF:\n",
    "    print(r'$\\omega_{rf} = $', freq, 'r$\\omega_g$')\n",
    "    result = mesolve([H_up(theta3), H_RF(theta3, args)], rho0, tlist3, c_op_list, [ket2dm(SYield), ket2dm(TYield)],\n",
    "    args={'A': Brf, 'freq': freq * 2 * gama * Bgeo})\n",
    "    singlet_yield_vs_freq_RF.append(result.expect[0][-1])\n",
    "    triplet_yield_vs_freq_RF.append(result.expect[1][-1])\n",
    "\n",
    "singlet_yield_vs_freq_RF = np.array(singlet_yield_vs_freq_RF)\n",
    "triplet_yield_vs_freq_RF = np.array(triplet_yield_vs_freq_RF)"
   ],
   "metadata": {
    "collapsed": false
   }
  },
  {
   "cell_type": "code",
   "execution_count": 18,
   "outputs": [
    {
     "name": "stdout",
     "output_type": "stream",
     "text": [
      "0.98\n",
      "0.9802\n",
      "0.9803999999999999\n",
      "0.9806\n",
      "0.9808\n",
      "0.981\n",
      "0.9812\n",
      "0.9813999999999999\n",
      "0.9816\n",
      "0.9818\n",
      "0.982\n",
      "0.9822\n",
      "0.9823999999999999\n",
      "0.9826\n",
      "0.9828\n",
      "0.983\n",
      "0.9832\n",
      "0.9833999999999999\n",
      "0.9836\n",
      "0.9838\n",
      "0.984\n",
      "0.9842\n",
      "0.9843999999999999\n",
      "0.9846\n",
      "0.9848\n",
      "0.985\n",
      "0.9852\n",
      "0.9853999999999999\n",
      "0.9856\n",
      "0.9858\n",
      "0.986\n",
      "0.9862\n",
      "0.9863999999999999\n",
      "0.9866\n",
      "0.9868\n",
      "0.987\n",
      "0.9872\n",
      "0.9873999999999999\n",
      "0.9876\n",
      "0.9878\n",
      "0.988\n",
      "0.9882\n",
      "0.9884\n",
      "0.9886\n",
      "0.9888\n",
      "0.989\n",
      "0.9892\n",
      "0.9894\n",
      "0.9896\n",
      "0.9898\n",
      "0.99\n",
      "0.9902\n",
      "0.9904\n",
      "0.9906\n",
      "0.9908\n",
      "0.991\n",
      "0.9912\n",
      "0.9914\n",
      "0.9916\n",
      "0.9918\n",
      "0.992\n",
      "0.9922\n",
      "0.9924\n",
      "0.9926\n",
      "0.9928\n",
      "0.993\n",
      "0.9932\n",
      "0.9934\n",
      "0.9936\n",
      "0.9938\n",
      "0.994\n",
      "0.9942\n",
      "0.9944\n",
      "0.9946\n",
      "0.9948\n",
      "0.995\n",
      "0.9952\n",
      "0.9954\n",
      "0.9956\n",
      "0.9958\n",
      "0.996\n",
      "0.9962\n",
      "0.9964\n",
      "0.9966\n",
      "0.9968\n",
      "0.997\n",
      "0.9972\n",
      "0.9974\n",
      "0.9976\n",
      "0.9978\n",
      "0.998\n",
      "0.9982\n",
      "0.9984\n",
      "0.9986\n",
      "0.9988\n",
      "0.999\n",
      "0.9992\n",
      "0.9994\n",
      "0.9996\n",
      "0.9998\n",
      "1.0\n",
      "1.0002\n",
      "1.0004\n",
      "1.0006\n",
      "1.0008\n",
      "1.001\n",
      "1.0012\n",
      "1.0014\n",
      "1.0016\n",
      "1.0018\n",
      "1.002\n",
      "1.0022\n",
      "1.0024\n",
      "1.0026\n",
      "1.0028\n",
      "1.0030000000000001\n",
      "1.0032\n",
      "1.0034\n",
      "1.0036\n",
      "1.0038\n",
      "1.004\n",
      "1.0042\n",
      "1.0044\n",
      "1.0046\n",
      "1.0048\n",
      "1.005\n",
      "1.0052\n",
      "1.0054\n",
      "1.0056\n",
      "1.0058\n",
      "1.006\n",
      "1.0062\n",
      "1.0064\n",
      "1.0066\n",
      "1.0068\n",
      "1.0070000000000001\n",
      "1.0072\n",
      "1.0074\n",
      "1.0076\n",
      "1.0078\n",
      "1.008\n",
      "1.0082\n",
      "1.0084\n",
      "1.0086\n",
      "1.0088\n",
      "1.009\n",
      "1.0092\n",
      "1.0094\n",
      "1.0096\n",
      "1.0098\n",
      "1.01\n",
      "1.0102\n",
      "1.0104\n",
      "1.0106\n",
      "1.0108\n",
      "1.0110000000000001\n",
      "1.0112\n",
      "1.0114\n",
      "1.0116\n",
      "1.0118\n",
      "1.012\n",
      "1.0122\n",
      "1.0124\n",
      "1.0126\n",
      "1.0128\n",
      "1.013\n",
      "1.0132\n",
      "1.0134\n",
      "1.0136\n",
      "1.0138\n",
      "1.014\n",
      "1.0142\n",
      "1.0144\n",
      "1.0146\n",
      "1.0148\n",
      "1.0150000000000001\n",
      "1.0152\n",
      "1.0154\n",
      "1.0156\n",
      "1.0158\n",
      "1.016\n",
      "1.0162\n",
      "1.0164\n",
      "1.0166\n",
      "1.0168\n",
      "1.017\n",
      "1.0172\n",
      "1.0174\n",
      "1.0176\n",
      "1.0178\n",
      "1.018\n",
      "1.0182\n",
      "1.0184\n",
      "1.0186\n",
      "1.0188\n",
      "1.0190000000000001\n",
      "1.0192\n",
      "1.0194\n",
      "1.0196\n",
      "1.0198\n",
      "1.02\n"
     ]
    }
   ],
   "source": [
    "# Rotating-wave approximation\n",
    "\n",
    "tlist3 = np.linspace(0.0, 4.0 / k, 20000)\n",
    "\n",
    "def H_RWA(rf_freq):\n",
    "    \"\"\"RF Hamiltonian in rotating-wave approximation\n",
    "    when \\theta = 0\"\"\"\n",
    "    d = w - rf_freq\n",
    "    Hz = gama * Sx * Brf / 2 + 0.5 * Sz * d  # one factor 0.5 is from RWA and the other one is due to electron's spin 1/2\n",
    "    return Hz + Hhf\n",
    "\n",
    "freq_list = np.linspace(0.98, 1.02, 201)  # units of 2*gama*Bgeo\n",
    "\n",
    "singlet_yield_vs_freq_RWA = []\n",
    "triplet_yield_vs_freq_RWA = []\n",
    "\n",
    "for freq in freq_list:\n",
    "    print(freq)\n",
    "    result = mesolve(H_RWA(freq * w), rho0, tlist3, c_op_list, [ket2dm(SYield), ket2dm(TYield)])\n",
    "    singlet_yield_vs_freq_RWA.append(result.expect[0][-1])\n",
    "    triplet_yield_vs_freq_RWA.append(result.expect[1][-1])\n",
    "\n",
    "singlet_yield_vs_freq_RWA = np.array(singlet_yield_vs_freq_RWA)\n",
    "triplet_yield_vs_freq_RWA = np.array(triplet_yield_vs_freq_RWA)"
   ],
   "metadata": {
    "collapsed": false
   }
  },
  {
   "cell_type": "code",
   "execution_count": 19,
   "outputs": [
    {
     "data": {
      "text/plain": "<Figure size 432x288 with 1 Axes>",
      "image/png": "[encoded data removed]"
     },
     "metadata": {
      "needs_background": "light"
     },
     "output_type": "display_data"
    }
   ],
   "source": [
    "# Plot\n",
    "total_yield_vs_freq_RWA = singlet_yield_vs_freq_RWA + triplet_yield_vs_freq_RWA\n",
    "total_yield_vs_freq_RF = singlet_yield_vs_freq_RF + triplet_yield_vs_freq_RF\n",
    "fig, ax = plt.subplots()\n",
    "ax.plot(freq_list - 1, singlet_yield_vs_freq_RWA / total_yield_vs_freq_RWA, linewidth=4.0, label='RWA')\n",
    "ax.scatter(freq_list_RF - 1, singlet_yield_vs_freq_RF / total_yield_vs_freq_RF, linewidth=4.0, label='RF')\n",
    "ax.set_xlabel(r'$\\delta_{RF}\\ / \\ \\left(\\dfrac{\\mu_B B_{geo}}{\\hbar}\\right)$')\n",
    "ax.set_ylabel('Singlet yield (RWA)')\n",
    "ax.legend(loc=0)\n",
    "ax.grid()"
   ],
   "metadata": {
    "collapsed": false
   }
  },
  {
   "cell_type": "markdown",
   "source": [
    "To be honest, I don't remember why we need to normalize the yield for the results to make sense."
   ],
   "metadata": {
    "collapsed": false
   }
  }
 ],
 "metadata": {
  "kernelspec": {
   "display_name": "Python 3",
   "language": "python",
   "name": "python3"
  },
  "language_info": {
   "codemirror_mode": {
    "name": "ipython",
    "version": 2
   },
   "file_extension": ".py",
   "mimetype": "text/x-python",
   "name": "python",
   "nbconvert_exporter": "python",
   "pygments_lexer": "ipython2",
   "version": "2.7.6"
  }
 },
 "nbformat": 4,
 "nbformat_minor": 0
}
